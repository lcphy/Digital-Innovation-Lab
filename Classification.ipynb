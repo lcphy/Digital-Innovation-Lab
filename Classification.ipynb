{
  "nbformat": 4,
  "nbformat_minor": 0,
  "metadata": {
    "colab": {
      "name": "Classification",
      "version": "0.3.2",
      "provenance": [],
      "include_colab_link": true
    },
    "kernelspec": {
      "name": "python3",
      "display_name": "Python 3"
    }
  },
  "cells": [
    {
      "cell_type": "markdown",
      "metadata": {
        "id": "view-in-github",
        "colab_type": "text"
      },
      "source": [
        "<a href=\"https://colab.research.google.com/github/lcphy/Digital-Innovation-Lab/blob/master/Classification.ipynb\" target=\"_parent\"><img src=\"https://colab.research.google.com/assets/colab-badge.svg\" alt=\"Open In Colab\"/></a>"
      ]
    },
    {
      "cell_type": "code",
      "metadata": {
        "id": "sGUrT3VR8Vni",
        "colab_type": "code",
        "colab": {}
      },
      "source": [
        "import numpy as np\n",
        "import pandas as pd\n",
        "import seaborn as sns\n",
        "import matplotlib.pyplot as plt\n",
        "from sklearn.metrics import classification_report"
      ],
      "execution_count": 0,
      "outputs": []
    },
    {
      "cell_type": "code",
      "metadata": {
        "id": "Xe65f0HQ8e4V",
        "colab_type": "code",
        "colab": {}
      },
      "source": [
        "#EVERY TIME THE DATASET IS RETRIEVED FROM DRIVE\n",
        "\n",
        "input_file = 'https://raw.githubusercontent.com/lcphy/Digital-Innovation-Lab/master/bank-full.csv'\n",
        "dataset = pd.read_csv(input_file, sep=';', header = 0) "
      ],
      "execution_count": 0,
      "outputs": []
    },
    {
      "cell_type": "code",
      "metadata": {
        "id": "cWPcgG5kz164",
        "colab_type": "code",
        "outputId": "753eba47-c7d4-48ba-e3b5-544168e631f1",
        "colab": {
          "base_uri": "https://localhost:8080/"
        }
      },
      "source": [
        "dataset.head()"
      ],
      "execution_count": 41,
      "outputs": [
        {
          "output_type": "execute_result",
          "data": {
            "text/html": [
              "<div>\n",
              "<style scoped>\n",
              "    .dataframe tbody tr th:only-of-type {\n",
              "        vertical-align: middle;\n",
              "    }\n",
              "\n",
              "    .dataframe tbody tr th {\n",
              "        vertical-align: top;\n",
              "    }\n",
              "\n",
              "    .dataframe thead th {\n",
              "        text-align: right;\n",
              "    }\n",
              "</style>\n",
              "<table border=\"1\" class=\"dataframe\">\n",
              "  <thead>\n",
              "    <tr style=\"text-align: right;\">\n",
              "      <th></th>\n",
              "      <th>age</th>\n",
              "      <th>job</th>\n",
              "      <th>marital</th>\n",
              "      <th>education</th>\n",
              "      <th>default</th>\n",
              "      <th>balance</th>\n",
              "      <th>housing</th>\n",
              "      <th>loan</th>\n",
              "      <th>contact</th>\n",
              "      <th>day</th>\n",
              "      <th>month</th>\n",
              "      <th>duration</th>\n",
              "      <th>campaign</th>\n",
              "      <th>pdays</th>\n",
              "      <th>previous</th>\n",
              "      <th>poutcome</th>\n",
              "      <th>y</th>\n",
              "    </tr>\n",
              "  </thead>\n",
              "  <tbody>\n",
              "    <tr>\n",
              "      <th>0</th>\n",
              "      <td>58</td>\n",
              "      <td>management</td>\n",
              "      <td>married</td>\n",
              "      <td>tertiary</td>\n",
              "      <td>no</td>\n",
              "      <td>2143</td>\n",
              "      <td>yes</td>\n",
              "      <td>no</td>\n",
              "      <td>unknown</td>\n",
              "      <td>5</td>\n",
              "      <td>may</td>\n",
              "      <td>261</td>\n",
              "      <td>1</td>\n",
              "      <td>-1</td>\n",
              "      <td>0</td>\n",
              "      <td>unknown</td>\n",
              "      <td>no</td>\n",
              "    </tr>\n",
              "    <tr>\n",
              "      <th>1</th>\n",
              "      <td>44</td>\n",
              "      <td>technician</td>\n",
              "      <td>single</td>\n",
              "      <td>secondary</td>\n",
              "      <td>no</td>\n",
              "      <td>29</td>\n",
              "      <td>yes</td>\n",
              "      <td>no</td>\n",
              "      <td>unknown</td>\n",
              "      <td>5</td>\n",
              "      <td>may</td>\n",
              "      <td>151</td>\n",
              "      <td>1</td>\n",
              "      <td>-1</td>\n",
              "      <td>0</td>\n",
              "      <td>unknown</td>\n",
              "      <td>no</td>\n",
              "    </tr>\n",
              "    <tr>\n",
              "      <th>2</th>\n",
              "      <td>33</td>\n",
              "      <td>entrepreneur</td>\n",
              "      <td>married</td>\n",
              "      <td>secondary</td>\n",
              "      <td>no</td>\n",
              "      <td>2</td>\n",
              "      <td>yes</td>\n",
              "      <td>yes</td>\n",
              "      <td>unknown</td>\n",
              "      <td>5</td>\n",
              "      <td>may</td>\n",
              "      <td>76</td>\n",
              "      <td>1</td>\n",
              "      <td>-1</td>\n",
              "      <td>0</td>\n",
              "      <td>unknown</td>\n",
              "      <td>no</td>\n",
              "    </tr>\n",
              "    <tr>\n",
              "      <th>3</th>\n",
              "      <td>47</td>\n",
              "      <td>blue-collar</td>\n",
              "      <td>married</td>\n",
              "      <td>unknown</td>\n",
              "      <td>no</td>\n",
              "      <td>1506</td>\n",
              "      <td>yes</td>\n",
              "      <td>no</td>\n",
              "      <td>unknown</td>\n",
              "      <td>5</td>\n",
              "      <td>may</td>\n",
              "      <td>92</td>\n",
              "      <td>1</td>\n",
              "      <td>-1</td>\n",
              "      <td>0</td>\n",
              "      <td>unknown</td>\n",
              "      <td>no</td>\n",
              "    </tr>\n",
              "    <tr>\n",
              "      <th>4</th>\n",
              "      <td>33</td>\n",
              "      <td>unknown</td>\n",
              "      <td>single</td>\n",
              "      <td>unknown</td>\n",
              "      <td>no</td>\n",
              "      <td>1</td>\n",
              "      <td>no</td>\n",
              "      <td>no</td>\n",
              "      <td>unknown</td>\n",
              "      <td>5</td>\n",
              "      <td>may</td>\n",
              "      <td>198</td>\n",
              "      <td>1</td>\n",
              "      <td>-1</td>\n",
              "      <td>0</td>\n",
              "      <td>unknown</td>\n",
              "      <td>no</td>\n",
              "    </tr>\n",
              "  </tbody>\n",
              "</table>\n",
              "</div>"
            ],
            "text/plain": [
              "   age           job  marital  education  ... pdays  previous poutcome   y\n",
              "0   58    management  married   tertiary  ...    -1         0  unknown  no\n",
              "1   44    technician   single  secondary  ...    -1         0  unknown  no\n",
              "2   33  entrepreneur  married  secondary  ...    -1         0  unknown  no\n",
              "3   47   blue-collar  married    unknown  ...    -1         0  unknown  no\n",
              "4   33       unknown   single    unknown  ...    -1         0  unknown  no\n",
              "\n",
              "[5 rows x 17 columns]"
            ]
          },
          "metadata": {
            "tags": []
          },
          "execution_count": 41
        }
      ]
    },
    {
      "cell_type": "code",
      "metadata": {
        "id": "SYukgnQz9NVs",
        "colab_type": "code",
        "colab": {}
      },
      "source": [
        "#DELETE NEXT CALLS DATA\n",
        "\n",
        "dataset = dataset.drop(\"contact\", axis=1)\n",
        "dataset = dataset.drop(\"day\", axis=1)\n",
        "dataset = dataset.drop(\"month\", axis=1)\n",
        "dataset = dataset.drop(\"duration\", axis=1)\n",
        "dataset = dataset.drop(\"campaign\", axis=1)\n",
        "dataset = dataset.drop(\"pdays\", axis=1)\n",
        "dataset = dataset.drop(\"previous\", axis=1)\n",
        "dataset = dataset.drop(\"poutcome\", axis=1)"
      ],
      "execution_count": 0,
      "outputs": []
    },
    {
      "cell_type": "code",
      "metadata": {
        "id": "zPmpL_X40DEH",
        "colab_type": "code",
        "outputId": "fcf8a6a5-8e3d-451f-af02-786df22def85",
        "colab": {
          "base_uri": "https://localhost:8080/"
        }
      },
      "source": [
        "dataset.head()"
      ],
      "execution_count": 43,
      "outputs": [
        {
          "output_type": "execute_result",
          "data": {
            "text/html": [
              "<div>\n",
              "<style scoped>\n",
              "    .dataframe tbody tr th:only-of-type {\n",
              "        vertical-align: middle;\n",
              "    }\n",
              "\n",
              "    .dataframe tbody tr th {\n",
              "        vertical-align: top;\n",
              "    }\n",
              "\n",
              "    .dataframe thead th {\n",
              "        text-align: right;\n",
              "    }\n",
              "</style>\n",
              "<table border=\"1\" class=\"dataframe\">\n",
              "  <thead>\n",
              "    <tr style=\"text-align: right;\">\n",
              "      <th></th>\n",
              "      <th>age</th>\n",
              "      <th>job</th>\n",
              "      <th>marital</th>\n",
              "      <th>education</th>\n",
              "      <th>default</th>\n",
              "      <th>balance</th>\n",
              "      <th>housing</th>\n",
              "      <th>loan</th>\n",
              "      <th>y</th>\n",
              "    </tr>\n",
              "  </thead>\n",
              "  <tbody>\n",
              "    <tr>\n",
              "      <th>0</th>\n",
              "      <td>58</td>\n",
              "      <td>management</td>\n",
              "      <td>married</td>\n",
              "      <td>tertiary</td>\n",
              "      <td>no</td>\n",
              "      <td>2143</td>\n",
              "      <td>yes</td>\n",
              "      <td>no</td>\n",
              "      <td>no</td>\n",
              "    </tr>\n",
              "    <tr>\n",
              "      <th>1</th>\n",
              "      <td>44</td>\n",
              "      <td>technician</td>\n",
              "      <td>single</td>\n",
              "      <td>secondary</td>\n",
              "      <td>no</td>\n",
              "      <td>29</td>\n",
              "      <td>yes</td>\n",
              "      <td>no</td>\n",
              "      <td>no</td>\n",
              "    </tr>\n",
              "    <tr>\n",
              "      <th>2</th>\n",
              "      <td>33</td>\n",
              "      <td>entrepreneur</td>\n",
              "      <td>married</td>\n",
              "      <td>secondary</td>\n",
              "      <td>no</td>\n",
              "      <td>2</td>\n",
              "      <td>yes</td>\n",
              "      <td>yes</td>\n",
              "      <td>no</td>\n",
              "    </tr>\n",
              "    <tr>\n",
              "      <th>3</th>\n",
              "      <td>47</td>\n",
              "      <td>blue-collar</td>\n",
              "      <td>married</td>\n",
              "      <td>unknown</td>\n",
              "      <td>no</td>\n",
              "      <td>1506</td>\n",
              "      <td>yes</td>\n",
              "      <td>no</td>\n",
              "      <td>no</td>\n",
              "    </tr>\n",
              "    <tr>\n",
              "      <th>4</th>\n",
              "      <td>33</td>\n",
              "      <td>unknown</td>\n",
              "      <td>single</td>\n",
              "      <td>unknown</td>\n",
              "      <td>no</td>\n",
              "      <td>1</td>\n",
              "      <td>no</td>\n",
              "      <td>no</td>\n",
              "      <td>no</td>\n",
              "    </tr>\n",
              "  </tbody>\n",
              "</table>\n",
              "</div>"
            ],
            "text/plain": [
              "   age           job  marital  education default  balance housing loan   y\n",
              "0   58    management  married   tertiary      no     2143     yes   no  no\n",
              "1   44    technician   single  secondary      no       29     yes   no  no\n",
              "2   33  entrepreneur  married  secondary      no        2     yes  yes  no\n",
              "3   47   blue-collar  married    unknown      no     1506     yes   no  no\n",
              "4   33       unknown   single    unknown      no        1      no   no  no"
            ]
          },
          "metadata": {
            "tags": []
          },
          "execution_count": 43
        }
      ]
    },
    {
      "cell_type": "code",
      "metadata": {
        "id": "SWwhkIED9Qv5",
        "colab_type": "code",
        "colab": {}
      },
      "source": [
        "#FEATURE ENGINEERING\n",
        "\n",
        "cleanup_nums = {\"marital\":     {\"married\": 1, \"single\": 0, \"divorced\":-1},\n",
        "                \"education\": {\"primary\": 1, \"secondary\": 2, \"tertiary\": 3},\n",
        "               \"default\":     {\"yes\": 1, \"no\": 0},\n",
        "               \"housing\":     {\"yes\": 1, \"no\": 0},\n",
        "               \"loan\":     {\"yes\": 1, \"no\": 0},\n",
        "               \"y\":     {\"yes\": 1, \"no\": 0}}"
      ],
      "execution_count": 0,
      "outputs": []
    },
    {
      "cell_type": "code",
      "metadata": {
        "id": "S2H3cqve9RX1",
        "colab_type": "code",
        "outputId": "64d47562-ffcd-4c1f-c8a5-4ffcdfb0cab5",
        "colab": {
          "base_uri": "https://localhost:8080/"
        }
      },
      "source": [
        "dataset.replace(cleanup_nums, inplace=True)\n",
        "dataset.head()"
      ],
      "execution_count": 45,
      "outputs": [
        {
          "output_type": "execute_result",
          "data": {
            "text/html": [
              "<div>\n",
              "<style scoped>\n",
              "    .dataframe tbody tr th:only-of-type {\n",
              "        vertical-align: middle;\n",
              "    }\n",
              "\n",
              "    .dataframe tbody tr th {\n",
              "        vertical-align: top;\n",
              "    }\n",
              "\n",
              "    .dataframe thead th {\n",
              "        text-align: right;\n",
              "    }\n",
              "</style>\n",
              "<table border=\"1\" class=\"dataframe\">\n",
              "  <thead>\n",
              "    <tr style=\"text-align: right;\">\n",
              "      <th></th>\n",
              "      <th>age</th>\n",
              "      <th>job</th>\n",
              "      <th>marital</th>\n",
              "      <th>education</th>\n",
              "      <th>default</th>\n",
              "      <th>balance</th>\n",
              "      <th>housing</th>\n",
              "      <th>loan</th>\n",
              "      <th>y</th>\n",
              "    </tr>\n",
              "  </thead>\n",
              "  <tbody>\n",
              "    <tr>\n",
              "      <th>0</th>\n",
              "      <td>58</td>\n",
              "      <td>management</td>\n",
              "      <td>1</td>\n",
              "      <td>3</td>\n",
              "      <td>0</td>\n",
              "      <td>2143</td>\n",
              "      <td>1</td>\n",
              "      <td>0</td>\n",
              "      <td>0</td>\n",
              "    </tr>\n",
              "    <tr>\n",
              "      <th>1</th>\n",
              "      <td>44</td>\n",
              "      <td>technician</td>\n",
              "      <td>0</td>\n",
              "      <td>2</td>\n",
              "      <td>0</td>\n",
              "      <td>29</td>\n",
              "      <td>1</td>\n",
              "      <td>0</td>\n",
              "      <td>0</td>\n",
              "    </tr>\n",
              "    <tr>\n",
              "      <th>2</th>\n",
              "      <td>33</td>\n",
              "      <td>entrepreneur</td>\n",
              "      <td>1</td>\n",
              "      <td>2</td>\n",
              "      <td>0</td>\n",
              "      <td>2</td>\n",
              "      <td>1</td>\n",
              "      <td>1</td>\n",
              "      <td>0</td>\n",
              "    </tr>\n",
              "    <tr>\n",
              "      <th>3</th>\n",
              "      <td>47</td>\n",
              "      <td>blue-collar</td>\n",
              "      <td>1</td>\n",
              "      <td>unknown</td>\n",
              "      <td>0</td>\n",
              "      <td>1506</td>\n",
              "      <td>1</td>\n",
              "      <td>0</td>\n",
              "      <td>0</td>\n",
              "    </tr>\n",
              "    <tr>\n",
              "      <th>4</th>\n",
              "      <td>33</td>\n",
              "      <td>unknown</td>\n",
              "      <td>0</td>\n",
              "      <td>unknown</td>\n",
              "      <td>0</td>\n",
              "      <td>1</td>\n",
              "      <td>0</td>\n",
              "      <td>0</td>\n",
              "      <td>0</td>\n",
              "    </tr>\n",
              "  </tbody>\n",
              "</table>\n",
              "</div>"
            ],
            "text/plain": [
              "   age           job  marital education  default  balance  housing  loan  y\n",
              "0   58    management        1         3        0     2143        1     0  0\n",
              "1   44    technician        0         2        0       29        1     0  0\n",
              "2   33  entrepreneur        1         2        0        2        1     1  0\n",
              "3   47   blue-collar        1   unknown        0     1506        1     0  0\n",
              "4   33       unknown        0   unknown        0        1        0     0  0"
            ]
          },
          "metadata": {
            "tags": []
          },
          "execution_count": 45
        }
      ]
    },
    {
      "cell_type": "code",
      "metadata": {
        "id": "OnEnmg13ckzg",
        "colab_type": "code",
        "outputId": "76fdf2db-7f23-4d08-8bb7-0151e12a6a34",
        "colab": {
          "base_uri": "https://localhost:8080/"
        }
      },
      "source": [
        "dataset.dtypes"
      ],
      "execution_count": 46,
      "outputs": [
        {
          "output_type": "execute_result",
          "data": {
            "text/plain": [
              "age           int64\n",
              "job          object\n",
              "marital       int64\n",
              "education    object\n",
              "default       int64\n",
              "balance       int64\n",
              "housing       int64\n",
              "loan          int64\n",
              "y             int64\n",
              "dtype: object"
            ]
          },
          "metadata": {
            "tags": []
          },
          "execution_count": 46
        }
      ]
    },
    {
      "cell_type": "code",
      "metadata": {
        "id": "skUjb4qRE3ze",
        "colab_type": "code",
        "colab": {}
      },
      "source": [
        "dataset = dataset[dataset.job != 'unknown']\n",
        "dataset = dataset[dataset.education != 'unknown']\n",
        "dataset['education'] = dataset['education'].astype(int)"
      ],
      "execution_count": 0,
      "outputs": []
    },
    {
      "cell_type": "code",
      "metadata": {
        "id": "qyegTnsnqcTH",
        "colab_type": "code",
        "outputId": "eedd1d8a-1646-4e0d-fd7a-9b878b420727",
        "colab": {
          "base_uri": "https://localhost:8080/"
        }
      },
      "source": [
        "#COLLERATION MATRIX\n",
        "\n",
        "plt.figure(figsize=(12,10))\n",
        "cor = dataset.corr()\n",
        "sns.heatmap(cor, annot=True, cmap=plt.cm.Reds)\n",
        "plt.show()"
      ],
      "execution_count": 48,
      "outputs": [
        {
          "output_type": "display_data",
          "data": {
            "image/png": "[encoded data removed]",
            "text/plain": [
              "<Figure size 864x720 with 2 Axes>"
            ]
          },
          "metadata": {
            "tags": []
          }
        }
      ]
    },
    {
      "cell_type": "code",
      "metadata": {
        "id": "GIdXp1UK8fun",
        "colab_type": "code",
        "colab": {}
      },
      "source": [
        "#CLASSIFIFICATION\n",
        "\n",
        "X = dataset.iloc[:, 0:7]\n",
        "y = dataset.iloc[:, 7]"
      ],
      "execution_count": 0,
      "outputs": []
    },
    {
      "cell_type": "code",
      "metadata": {
        "id": "2h1H5YSx9onT",
        "colab_type": "code",
        "colab": {}
      },
      "source": [
        "X = pd.get_dummies(X, columns=[\"job\"], prefix=[\"job\"])"
      ],
      "execution_count": 0,
      "outputs": []
    },
    {
      "cell_type": "code",
      "metadata": {
        "id": "JW47gCdn9OvP",
        "colab_type": "code",
        "colab": {}
      },
      "source": [
        "from sklearn.model_selection import train_test_split\n",
        "X_train, X_test, y_train, y_test = train_test_split(X, y, test_size=0.25)"
      ],
      "execution_count": 0,
      "outputs": []
    },
    {
      "cell_type": "code",
      "metadata": {
        "id": "IU-zPr858frw",
        "colab_type": "code",
        "colab": {}
      },
      "source": [
        "#DECISION TREE\n",
        "\n",
        "from sklearn import tree\n",
        "from sklearn.tree import DecisionTreeClassifier\n",
        "\n",
        "clf_dt = DecisionTreeClassifier()\n",
        "clt_dt = clf_dt.fit(X_train,y_train)\n",
        "\n",
        "esito = clf_dt.predict(X_test)"
      ],
      "execution_count": 0,
      "outputs": []
    },
    {
      "cell_type": "code",
      "metadata": {
        "id": "G_z9nTZpn9_A",
        "colab_type": "code",
        "outputId": "95460442-bde9-4c08-c527-a85e6ffc1a04",
        "colab": {
          "base_uri": "https://localhost:8080/"
        }
      },
      "source": [
        "target_names = ['NOT-sub', 'Subscribed']\n",
        "print(classification_report(y_test, esito,target_names=target_names))"
      ],
      "execution_count": 53,
      "outputs": [
        {
          "output_type": "stream",
          "text": [
            "              precision    recall  f1-score   support\n",
            "\n",
            "     NOT-sub       0.87      0.87      0.87      9071\n",
            "  Subscribed       0.31      0.31      0.31      1728\n",
            "\n",
            "    accuracy                           0.78     10799\n",
            "   macro avg       0.59      0.59      0.59     10799\n",
            "weighted avg       0.78      0.78      0.78     10799\n",
            "\n"
          ],
          "name": "stdout"
        }
      ]
    },
    {
      "cell_type": "code",
      "metadata": {
        "id": "bgR1-f0vAHLh",
        "colab_type": "code",
        "outputId": "c4647193-f1c5-49b9-f7b3-c9c05ce1b9a8",
        "colab": {
          "base_uri": "https://localhost:8080/"
        }
      },
      "source": [
        "from sklearn.metrics import confusion_matrix\n",
        "cm = confusion_matrix(y_test, esito)\n",
        "print(cm)"
      ],
      "execution_count": 54,
      "outputs": [
        {
          "output_type": "stream",
          "text": [
            "[[7849 1222]\n",
            " [1186  542]]\n"
          ],
          "name": "stdout"
        }
      ]
    },
    {
      "cell_type": "code",
      "metadata": {
        "id": "K0Ki-wxE1nX5",
        "colab_type": "code",
        "outputId": "b9033dfe-a53c-4579-fbdb-f5fc62855a0e",
        "colab": {
          "base_uri": "https://localhost:8080/"
        }
      },
      "source": [
        "plt.hist(esito)"
      ],
      "execution_count": 55,
      "outputs": [
        {
          "output_type": "execute_result",
          "data": {
            "text/plain": [
              "(array([9035.,    0.,    0.,    0.,    0.,    0.,    0.,    0.,    0.,\n",
              "        1764.]),\n",
              " array([0. , 0.1, 0.2, 0.3, 0.4, 0.5, 0.6, 0.7, 0.8, 0.9, 1. ]),\n",
              " <a list of 10 Patch objects>)"
            ]
          },
          "metadata": {
            "tags": []
          },
          "execution_count": 55
        },
        {
          "output_type": "display_data",
          "data": {
            "image/png": "[encoded data removed]",
            "text/plain": [
              "<Figure size 432x288 with 1 Axes>"
            ]
          },
          "metadata": {
            "tags": []
          }
        }
      ]
    },
    {
      "cell_type": "code",
      "metadata": {
        "id": "4CEjThNND1js",
        "colab_type": "code",
        "outputId": "c5cfe8c3-b9eb-46e9-d975-9f1ea8a7c92b",
        "colab": {
          "base_uri": "https://localhost:8080/"
        }
      },
      "source": [
        "#RANDOM FOREST\n",
        "\n",
        "from sklearn.ensemble import RandomForestClassifier\n",
        "\n",
        "clf_dt = RandomForestClassifier()\n",
        "clt_dt = clf_dt.fit(X_train,y_train)\n",
        "\n",
        "esito = clf_dt.predict(X_test)"
      ],
      "execution_count": 56,
      "outputs": [
        {
          "output_type": "stream",
          "text": [
            "/usr/local/lib/python3.6/dist-packages/sklearn/ensemble/forest.py:245: FutureWarning: The default value of n_estimators will change from 10 in version 0.20 to 100 in 0.22.\n",
            "  \"10 in version 0.20 to 100 in 0.22.\", FutureWarning)\n"
          ],
          "name": "stderr"
        }
      ]
    },
    {
      "cell_type": "code",
      "metadata": {
        "id": "j6YFzak1oDvA",
        "colab_type": "code",
        "outputId": "4ff2398b-d7c9-41ac-8cef-acaf95e3dbd0",
        "colab": {
          "base_uri": "https://localhost:8080/"
        }
      },
      "source": [
        "target_names = ['NOT-sub', 'Subscribed']\n",
        "print(classification_report(y_test, esito,target_names=target_names))"
      ],
      "execution_count": 57,
      "outputs": [
        {
          "output_type": "stream",
          "text": [
            "              precision    recall  f1-score   support\n",
            "\n",
            "     NOT-sub       0.86      0.94      0.90      9071\n",
            "  Subscribed       0.39      0.19      0.26      1728\n",
            "\n",
            "    accuracy                           0.82     10799\n",
            "   macro avg       0.63      0.57      0.58     10799\n",
            "weighted avg       0.79      0.82      0.80     10799\n",
            "\n"
          ],
          "name": "stdout"
        }
      ]
    },
    {
      "cell_type": "code",
      "metadata": {
        "id": "pUZhVRVjD53-",
        "colab_type": "code",
        "outputId": "fe7ea4e5-e638-442f-d57e-2634f4a7c89b",
        "colab": {
          "base_uri": "https://localhost:8080/"
        }
      },
      "source": [
        "from sklearn.metrics import confusion_matrix\n",
        "cm = confusion_matrix(y_test, esito)\n",
        "print(cm)"
      ],
      "execution_count": 58,
      "outputs": [
        {
          "output_type": "stream",
          "text": [
            "[[8566  505]\n",
            " [1399  329]]\n"
          ],
          "name": "stdout"
        }
      ]
    },
    {
      "cell_type": "code",
      "metadata": {
        "id": "jN05T2-7EFtW",
        "colab_type": "code",
        "outputId": "c2a61c1f-ba94-4d1f-bd6b-dc8c29e2da96",
        "colab": {
          "base_uri": "https://localhost:8080/"
        }
      },
      "source": [
        "plt.hist(esito)"
      ],
      "execution_count": 59,
      "outputs": [
        {
          "output_type": "execute_result",
          "data": {
            "text/plain": [
              "(array([9965.,    0.,    0.,    0.,    0.,    0.,    0.,    0.,    0.,\n",
              "         834.]),\n",
              " array([0. , 0.1, 0.2, 0.3, 0.4, 0.5, 0.6, 0.7, 0.8, 0.9, 1. ]),\n",
              " <a list of 10 Patch objects>)"
            ]
          },
          "metadata": {
            "tags": []
          },
          "execution_count": 59
        },
        {
          "output_type": "display_data",
          "data": {
            "image/png": "[encoded data removed]",
            "text/plain": [
              "<Figure size 432x288 with 1 Axes>"
            ]
          },
          "metadata": {
            "tags": []
          }
        }
      ]
    },
    {
      "cell_type": "code",
      "metadata": {
        "id": "RIRygKU7HiA5",
        "colab_type": "code",
        "colab": {}
      },
      "source": [
        "# K-NEAREST NEIGHBOURS\n",
        "\n",
        "import numpy as np\n",
        "import matplotlib.pyplot as plt\n",
        "import pandas as pd\n",
        "\n",
        "# TRAINING - TEST\n",
        "from sklearn.model_selection import train_test_split\n",
        "X_train, X_test, y_train, y_test = train_test_split(X, y, test_size = 0.25, random_state = 0)\n",
        "\n",
        "# SCALING\n",
        "from sklearn.preprocessing import StandardScaler\n",
        "sc = StandardScaler()\n",
        "X_train = sc.fit_transform(X_train)\n",
        "X_test = sc.transform(X_test)\n",
        "\n",
        "# FITTING\n",
        "from sklearn.neighbors import KNeighborsClassifier\n",
        "classifier = KNeighborsClassifier(n_neighbors = 5, metric = 'minkowski', p = 2)\n",
        "classifier.fit(X_train, y_train)\n",
        "\n",
        "# PREDICTION\n",
        "y_pred = classifier.predict(X_test)\n",
        "\n",
        "# CONFUSION MATRIX\n",
        "from sklearn.metrics import confusion_matrix\n",
        "cm = confusion_matrix(y_test, y_pred)"
      ],
      "execution_count": 0,
      "outputs": []
    },
    {
      "cell_type": "code",
      "metadata": {
        "id": "_i4wu7WbwCxi",
        "colab_type": "code",
        "outputId": "6bcdcad8-df11-4548-c860-525fd704f0bd",
        "colab": {
          "base_uri": "https://localhost:8080/"
        }
      },
      "source": [
        "target_names = ['NOT-sub', 'Subscribed']\n",
        "print(classification_report(y_test, y_pred,target_names=target_names))"
      ],
      "execution_count": 61,
      "outputs": [
        {
          "output_type": "stream",
          "text": [
            "              precision    recall  f1-score   support\n",
            "\n",
            "     NOT-sub       0.85      0.95      0.90      9120\n",
            "  Subscribed       0.29      0.10      0.15      1679\n",
            "\n",
            "    accuracy                           0.82     10799\n",
            "   macro avg       0.57      0.53      0.52     10799\n",
            "weighted avg       0.76      0.82      0.78     10799\n",
            "\n"
          ],
          "name": "stdout"
        }
      ]
    },
    {
      "cell_type": "code",
      "metadata": {
        "id": "-1hyo0nmIRth",
        "colab_type": "code",
        "outputId": "85a3d7d0-94a1-4f2a-9328-5850d643f7e4",
        "colab": {
          "base_uri": "https://localhost:8080/"
        }
      },
      "source": [
        "print(cm)"
      ],
      "execution_count": 62,
      "outputs": [
        {
          "output_type": "stream",
          "text": [
            "[[8704  416]\n",
            " [1513  166]]\n"
          ],
          "name": "stdout"
        }
      ]
    },
    {
      "cell_type": "code",
      "metadata": {
        "id": "l-NtrbM-1w4g",
        "colab_type": "code",
        "outputId": "80b47280-2ce4-4c89-f106-d044bb6dc07c",
        "colab": {
          "base_uri": "https://localhost:8080/"
        }
      },
      "source": [
        "plt.hist(y_pred)"
      ],
      "execution_count": 63,
      "outputs": [
        {
          "output_type": "execute_result",
          "data": {
            "text/plain": [
              "(array([10217.,     0.,     0.,     0.,     0.,     0.,     0.,     0.,\n",
              "            0.,   582.]),\n",
              " array([0. , 0.1, 0.2, 0.3, 0.4, 0.5, 0.6, 0.7, 0.8, 0.9, 1. ]),\n",
              " <a list of 10 Patch objects>)"
            ]
          },
          "metadata": {
            "tags": []
          },
          "execution_count": 63
        },
        {
          "output_type": "display_data",
          "data": {
            "image/png": "[encoded data removed]",
            "text/plain": [
              "<Figure size 432x288 with 1 Axes>"
            ]
          },
          "metadata": {
            "tags": []
          }
        }
      ]
    },
    {
      "cell_type": "code",
      "metadata": {
        "id": "sKzaiZTZ9z1m",
        "colab_type": "code",
        "colab": {}
      },
      "source": [
        "#UNDERSAMPLING\n",
        "\n",
        "from sklearn.utils import resample\n",
        "\n",
        "dataset_sample = pd.get_dummies(dataset, columns=[\"job\"], prefix=[\"job\"])\n",
        "\n",
        "#SPLIT FEATURE AND TARGET\n",
        "y = dataset_sample.y\n",
        "X = dataset_sample.drop('y', axis=1)\n",
        "\n",
        "#TRAIN TEST\n",
        "X_train, X_test, y_train, y_test = train_test_split(X, y, test_size = 0.25, random_state = 0)"
      ],
      "execution_count": 0,
      "outputs": []
    },
    {
      "cell_type": "code",
      "metadata": {
        "id": "9z6BCGMF-B_l",
        "colab_type": "code",
        "colab": {}
      },
      "source": [
        "X = pd.concat([X_train, y_train], axis=1)"
      ],
      "execution_count": 0,
      "outputs": []
    },
    {
      "cell_type": "code",
      "metadata": {
        "id": "euq4M5z4-3QR",
        "colab_type": "code",
        "colab": {}
      },
      "source": [
        "#SELECTING TARGET CLASSES\n",
        "\n",
        "not_sub = X[X.y==0]\n",
        "sub = X[X.y==1]"
      ],
      "execution_count": 0,
      "outputs": []
    },
    {
      "cell_type": "code",
      "metadata": {
        "id": "0JydrL4r-Gem",
        "colab_type": "code",
        "colab": {}
      },
      "source": [
        "not_sub_downsampled = resample(not_sub,\n",
        "                                replace = False,\n",
        "                                n_samples = len(sub),\n",
        "                                random_state = 27)\n",
        "\n",
        "# COMBINE MINORITY AND DOWNSAMPLED MAJORITY\n",
        "downsampled = pd.concat([not_sub_downsampled, sub])"
      ],
      "execution_count": 0,
      "outputs": []
    },
    {
      "cell_type": "code",
      "metadata": {
        "id": "QaVafZ0--KH8",
        "colab_type": "code",
        "colab": {}
      },
      "source": [
        "#DECISION TREE\n",
        "\n",
        "y_train = downsampled.y\n",
        "X_train = downsampled.drop('y', axis=1)\n",
        "\n",
        "clf_dt = DecisionTreeClassifier()\n",
        "clt_dt = clf_dt.fit(X_train,y_train)\n",
        "\n",
        "esito = clf_dt.predict(X_test)"
      ],
      "execution_count": 0,
      "outputs": []
    },
    {
      "cell_type": "code",
      "metadata": {
        "id": "k89xEpVY_ev-",
        "colab_type": "code",
        "outputId": "400bd20d-e9a7-458e-cee6-c6013b0d2bbd",
        "colab": {
          "base_uri": "https://localhost:8080/"
        }
      },
      "source": [
        "target_names = ['NOT-sub', 'Subscribed']\n",
        "print(classification_report(y_test, esito,target_names=target_names))"
      ],
      "execution_count": 69,
      "outputs": [
        {
          "output_type": "stream",
          "text": [
            "              precision    recall  f1-score   support\n",
            "\n",
            "     NOT-sub       0.93      0.58      0.71      9577\n",
            "  Subscribed       0.16      0.65      0.26      1222\n",
            "\n",
            "    accuracy                           0.59     10799\n",
            "   macro avg       0.55      0.61      0.49     10799\n",
            "weighted avg       0.84      0.59      0.66     10799\n",
            "\n"
          ],
          "name": "stdout"
        }
      ]
    },
    {
      "cell_type": "code",
      "metadata": {
        "id": "OwNroG3smu9O",
        "colab_type": "code",
        "outputId": "3210a117-bd01-4cf9-951f-501631303515",
        "colab": {
          "base_uri": "https://localhost:8080/"
        }
      },
      "source": [
        "#RANDOM FOREST\n",
        "y_train = downsampled.y\n",
        "X_train = downsampled.drop('y', axis=1)\n",
        "\n",
        "clf_dt = RandomForestClassifier()\n",
        "clt_dt = clf_dt.fit(X_train,y_train)\n",
        "\n",
        "esito = clf_dt.predict(X_test)"
      ],
      "execution_count": 70,
      "outputs": [
        {
          "output_type": "stream",
          "text": [
            "/usr/local/lib/python3.6/dist-packages/sklearn/ensemble/forest.py:245: FutureWarning: The default value of n_estimators will change from 10 in version 0.20 to 100 in 0.22.\n",
            "  \"10 in version 0.20 to 100 in 0.22.\", FutureWarning)\n"
          ],
          "name": "stderr"
        }
      ]
    },
    {
      "cell_type": "code",
      "metadata": {
        "id": "Basma5Szmway",
        "colab_type": "code",
        "outputId": "38d0d44b-5c4a-486e-831c-215d05bdd5ef",
        "colab": {
          "base_uri": "https://localhost:8080/"
        }
      },
      "source": [
        "target_names = ['NOT-sub', 'Subscribed']\n",
        "print(classification_report(y_test, esito,target_names=target_names))"
      ],
      "execution_count": 71,
      "outputs": [
        {
          "output_type": "stream",
          "text": [
            "              precision    recall  f1-score   support\n",
            "\n",
            "     NOT-sub       0.93      0.65      0.76      9577\n",
            "  Subscribed       0.18      0.61      0.28      1222\n",
            "\n",
            "    accuracy                           0.64     10799\n",
            "   macro avg       0.55      0.63      0.52     10799\n",
            "weighted avg       0.84      0.64      0.71     10799\n",
            "\n"
          ],
          "name": "stdout"
        }
      ]
    },
    {
      "cell_type": "code",
      "metadata": {
        "id": "Rb3ZnQ43m7EO",
        "colab_type": "code",
        "outputId": "417d97cc-0086-4f6a-8e38-f876bc4cddc2",
        "colab": {
          "base_uri": "https://localhost:8080/"
        }
      },
      "source": [
        "#SMOTE - DECISION TREE\n",
        "\n",
        "from imblearn.over_sampling import SMOTE\n",
        "\n",
        "#SPLIT FEATURE TARGET\n",
        "y = dataset_sample.y\n",
        "X = dataset_sample.drop('y', axis=1)\n",
        "\n",
        "#TRAIN TEST\n",
        "X_train, X_test, y_train, y_test = train_test_split(X, y, test_size = 0.25, random_state = 0)\n",
        "\n",
        "#SMOTE\n",
        "sm = SMOTE(random_state=27, ratio=1.0)\n",
        "X_train, y_train = sm.fit_sample(X_train, y_train)\n",
        "\n",
        "clf_dt = DecisionTreeClassifier()\n",
        "\n",
        "#FIT\n",
        "smote = clf_dt.fit(X_train,y_train)\n",
        "\n",
        "#PREDICITON\n",
        "smote_pred = smote.predict(X_test)\n",
        "\n",
        "target_names = ['NOT-sub', 'Subscribed']\n",
        "print(classification_report(y_test, smote_pred,target_names=target_names))"
      ],
      "execution_count": 72,
      "outputs": [
        {
          "output_type": "stream",
          "text": [
            "              precision    recall  f1-score   support\n",
            "\n",
            "     NOT-sub       0.91      0.88      0.90      9577\n",
            "  Subscribed       0.27      0.36      0.31      1222\n",
            "\n",
            "    accuracy                           0.82     10799\n",
            "   macro avg       0.59      0.62      0.60     10799\n",
            "weighted avg       0.84      0.82      0.83     10799\n",
            "\n"
          ],
          "name": "stdout"
        }
      ]
    },
    {
      "cell_type": "code",
      "metadata": {
        "id": "n8G9sFJmB0mq",
        "colab_type": "code",
        "outputId": "e901e05a-c7d0-4c7a-f7a3-9bfc637804e8",
        "colab": {
          "base_uri": "https://localhost:8080/"
        }
      },
      "source": [
        "#SMOTE - RANDOM FOREST\n",
        "\n",
        "from imblearn.over_sampling import SMOTE\n",
        "\n",
        "y = dataset_sample.y\n",
        "X = dataset_sample.drop('y', axis=1)\n",
        "\n",
        "# setting up testing and training sets\n",
        "X_train, X_test, y_train, y_test = train_test_split(X, y, test_size = 0.25, random_state = 0)\n",
        "\n",
        "sm = SMOTE(random_state=27, ratio=1.0)\n",
        "X_train, y_train = sm.fit_sample(X_train, y_train)\n",
        "\n",
        "clf_dt = RandomForestClassifier()\n",
        "\n",
        "smote = clf_dt.fit(X_train,y_train)\n",
        "\n",
        "smote_pred = smote.predict(X_test)\n",
        "\n",
        "target_names = ['NOT-sub', 'Subscribed']\n",
        "print(classification_report(y_test, smote_pred,target_names=target_names))"
      ],
      "execution_count": 73,
      "outputs": [
        {
          "output_type": "stream",
          "text": [
            "/usr/local/lib/python3.6/dist-packages/sklearn/ensemble/forest.py:245: FutureWarning: The default value of n_estimators will change from 10 in version 0.20 to 100 in 0.22.\n",
            "  \"10 in version 0.20 to 100 in 0.22.\", FutureWarning)\n"
          ],
          "name": "stderr"
        },
        {
          "output_type": "stream",
          "text": [
            "              precision    recall  f1-score   support\n",
            "\n",
            "     NOT-sub       0.91      0.91      0.91      9577\n",
            "  Subscribed       0.31      0.31      0.31      1222\n",
            "\n",
            "    accuracy                           0.84     10799\n",
            "   macro avg       0.61      0.61      0.61     10799\n",
            "weighted avg       0.84      0.84      0.84     10799\n",
            "\n"
          ],
          "name": "stdout"
        }
      ]
    },
    {
      "cell_type": "code",
      "metadata": {
        "id": "8dq16sPVrXR1",
        "colab_type": "code",
        "outputId": "99ebe08b-01ef-49eb-ee7c-0fd74965f49d",
        "colab": {
          "base_uri": "https://localhost:8080/"
        }
      },
      "source": [
        "#RECAP on RECALL\n",
        "\n",
        "x = np.arange(3)\n",
        "plt.bar(x-0.2, [31,65,37], width=0.2, color='b', align='center', label='DT')\n",
        "plt.bar(x, [18,61,32], width=0.2, color='r', align='center', label='RF')\n",
        "plt.xticks(x-0.1, ['Normal','Under','Smote'])\n",
        "plt.legend(loc='upper right')"
      ],
      "execution_count": 74,
      "outputs": [
        {
          "output_type": "execute_result",
          "data": {
            "text/plain": [
              "<matplotlib.legend.Legend at 0x7fd62a7600b8>"
            ]
          },
          "metadata": {
            "tags": []
          },
          "execution_count": 74
        },
        {
          "output_type": "display_data",
          "data": {
            "image/png": "[encoded data removed]",
            "text/plain": [
              "<Figure size 432x288 with 1 Axes>"
            ]
          },
          "metadata": {
            "tags": []
          }
        }
      ]
    },
    {
      "cell_type": "code",
      "metadata": {
        "id": "Q5bKi9ofD0Vt",
        "colab_type": "code",
        "outputId": "4e51da78-89ca-438b-ddf1-7549ed41aa2b",
        "colab": {
          "base_uri": "https://localhost:8080/"
        }
      },
      "source": [
        "#RECAP on F1\n",
        "\n",
        "x = np.arange(3)\n",
        "plt.bar(x-0.2, [31,26,32], width=0.2, color='b', align='center', label='DT')\n",
        "plt.bar(x, [24,28,31], width=0.2, color='r', align='center', label='RF')\n",
        "plt.xticks(x-0.1, ['Normal','Under','Smote'])\n",
        "plt.legend(loc='lower right')"
      ],
      "execution_count": 75,
      "outputs": [
        {
          "output_type": "execute_result",
          "data": {
            "text/plain": [
              "<matplotlib.legend.Legend at 0x7fd62a6c0438>"
            ]
          },
          "metadata": {
            "tags": []
          },
          "execution_count": 75
        },
        {
          "output_type": "display_data",
          "data": {
            "image/png": "[encoded data removed]",
            "text/plain": [
              "<Figure size 432x288 with 1 Axes>"
            ]
          },
          "metadata": {
            "tags": []
          }
        }
      ]
    }
  ]
}